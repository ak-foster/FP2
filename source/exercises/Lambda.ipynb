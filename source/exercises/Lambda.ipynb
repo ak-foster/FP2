{
 "cells": [
  {
   "cell_type": "markdown",
   "metadata": {},
   "source": [
    "# Lambda"
   ]
  },
  {
   "cell_type": "markdown",
   "metadata": {},
   "source": [
    "The Lambda special form is Python’s syntax for creating an unnamed function — a function without a name. This is its general form:\n",
    "\n",
    "```python\n",
    "lambda arguments: expression\n",
    "```\n",
    "\n",
    "The function evaluates to the result of the expression. Here is a lambda that adds one to its argument:\n",
    "\n",
    "```python\n",
    "lambda x: x + 1\n",
    "```\n",
    "\n",
    "Here is a lambda that adds its two arguments together:\n",
    "\n",
    "```python\n",
    "lambda x, y: x + y\n",
    "```\n",
    "\n",
    "Compare this syntax to that of a standard function definition:\n",
    "\n",
    "```python\n",
    "def my_sum(x, y):\n",
    "    return x + y\n",
    "```\n",
    "\n",
    "This simple function does nothing more than return the value of the expression in the return, so it is viable written on a single line.\n",
    "\n",
    "```python\n",
    "def my_sum(x, y): return x + y\n",
    "```\n",
    "\n",
    "Notice how this named function maps directly to its unnamed, lambda equivalent:\n",
    "\n",
    "```python\n",
    "lambda x, y: x + y\n",
    "```"
   ]
  },
  {
   "cell_type": "markdown",
   "metadata": {},
   "source": [
    "Now, unlike most code snippets, if you were to type these examples into your favorite python interpreter by themselves they would not accomplish much.  Go ahead and try it by executing the following line (move the cursor into the cell and press the return key)."
   ]
  },
  {
   "cell_type": "code",
   "execution_count": null,
   "metadata": {},
   "outputs": [],
   "source": [
    "lambda x, y: x + y"
   ]
  },
  {
   "cell_type": "markdown",
   "metadata": {},
   "source": [
    "You can’t call those, because they have no name. For all intents and purposes the anonymous functions were defined, recognized by the python interpreter as valid, syntactically correct python code, and then discarded, never to be seen or used again. You could, however, use the function immediately by calling it with its required arguments.  Execute this next line as well."
   ]
  },
  {
   "cell_type": "code",
   "execution_count": null,
   "metadata": {},
   "outputs": [],
   "source": [
    "(lambda x, y: x + y)(2, 3)"
   ]
  },
  {
   "cell_type": "markdown",
   "metadata": {},
   "source": [
    "In this case python defines the anonymous function, calls it with the supplied arguments and prints the result, but this feels like we’re using the python interpreter as little more than a calculator; we are not writing useful code. Indeed simply entering 2 + 3 in the interpreter provides the same result with a lot less typing. So what’s the point? Where are lambdas useful?\n",
    "\n",
    "Lambdas are only useful within larger code constructs — specifically when defined inline — and generally as an argument to a function or method which is expecting a function."
   ]
  },
  {
   "cell_type": "markdown",
   "metadata": {},
   "source": [
    "### What is so special about Lambda?\n",
    "\n",
    "According to Python’s creator, not much."
   ]
  },
  {
   "cell_type": "markdown",
   "metadata": {},
   "source": [
    "> About 12 years ago, Python aquired lambda, reduce(), filter() and map(), courtesy of (I believe) a Lisp hacker who missed them and submitted working patches. But, despite of the PR value, I think these features should be cut from Python 3000.\n",
    "\n",
    "> Why drop lambda? Most Python users are unfamiliar with Lisp or Scheme, so the name is confusing; also, there is a widespread misunderstanding that lambda can do things that a nested function can’t – I still recall Laura Creighton’s Aha!-erlebnis after I showed her there was no difference! Even with a better name, I think having the two choices side-by-side just requires programmers to think about making a choice that’s irrelevant for their program; not having the choice streamlines the thought process. Also, once map(), filter() and reduce() are gone, there aren’t a whole lot of places where you really need to write very short local functions; Tkinter callbacks come to mind, but I find that more often than not the callbacks should be methods of some state-carrying object anyway (the exception being toy programs).\n",
    "\n",
    "> Update: lambda, filter and map will stay (the latter two with small changes, returning iterators instead of lists). Only reduce will be removed from the 3.0 standard library. You can import it from functools.\n",
    "\n",
    "> &mdash; <cite>Guido van Rossum</cite>\n",
    "> http://www.artima.com/weblogs/viewpost.jsp?thread=98196"
   ]
  },
  {
   "cell_type": "markdown",
   "metadata": {},
   "source": [
    "Why would we teach the Lambda special form if even if Python’s creator has a low opinion of it?\n",
    "\n",
    "You need to understand it, because you are going to see it in the wild.\n",
    "\n",
    "As to whether you decide to propagate its use, we leave that to you."
   ]
  },
  {
   "cell_type": "code",
   "execution_count": null,
   "metadata": {},
   "outputs": [],
   "source": []
  }
 ],
 "metadata": {
  "kernelspec": {
   "display_name": "Python 3",
   "language": "python",
   "name": "python3"
  },
  "language_info": {
   "codemirror_mode": {
    "name": "ipython",
    "version": 3
   },
   "file_extension": ".py",
   "mimetype": "text/x-python",
   "name": "python",
   "nbconvert_exporter": "python",
   "pygments_lexer": "ipython3",
   "version": "3.6.4"
  }
 },
 "nbformat": 4,
 "nbformat_minor": 2
}
