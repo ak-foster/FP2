{
 "cells": [
  {
   "cell_type": "markdown",
   "metadata": {},
   "source": [
    "# Iterators and Iterables"
   ]
  },
  {
   "cell_type": "markdown",
   "metadata": {},
   "source": [
    "### Python 2"
   ]
  },
  {
   "cell_type": "markdown",
   "metadata": {},
   "source": [
    "Python used to be all about sequences — a good chunk of anything you did was stored in a sequence or involved manipulating a sequence.\n",
    "\n",
    "* lists\n",
    "* tuples\n",
    "* strings\n",
    "* dict.keys()\n",
    "* dict.values()\n",
    "* dict.items()\n",
    "* zip()\n",
    "\n",
    "In python2 those are all sequences. It turns out, however, that the most common operation for sequences is to iterate through them:"
   ]
  },
  {
   "cell_type": "code",
   "execution_count": null,
   "metadata": {},
   "outputs": [],
   "source": [
    "for item in a_sequence:\n",
    "    do_something_with_item"
   ]
  },
  {
   "cell_type": "markdown",
   "metadata": {},
   "source": [
    "So fairly early in Python2, Python introduced the idea of the “iterable”. An iterable is something you can, well, iterate over in a for loop, but often does not keep the whole sequence in memory at once. After all, why make a copy of something just to look at all its items?\n",
    "\n",
    "For example, in python2: dict.keys() returns a list of all the keys in the dict. But why make a full copy of all the keys, when all you want to do is:"
   ]
  },
  {
   "cell_type": "code",
   "execution_count": null,
   "metadata": {},
   "outputs": [],
   "source": [
    "for key in dict.keys():\n",
    "    do_something_with(key)"
   ]
  },
  {
   "cell_type": "markdown",
   "metadata": {},
   "source": [
    "Even worse ``dict.items()`` created a full list of ``(key, value)`` tuples — a complete copy of all the data in the dict. Yet worse ``enumerate(dict.items())`` created a whole list of ``(index, (key, value))`` tuples — lots of copies of everything.\n",
    "\n",
    "Python2 then introduced “iterable” versions of a number of functions and methods:\n",
    "\n",
    "* itertools.izip\n",
    "* dict.iteritems()\n",
    "* dict.iterkeys()\n",
    "* dict.itervalues()\n",
    "\n",
    "So you could now iterate through that stuff without copying anything."
   ]
  },
  {
   "cell_type": "markdown",
   "metadata": {},
   "source": [
    "### Python 3"
   ]
  },
  {
   "cell_type": "markdown",
   "metadata": {},
   "source": [
    "Python3 embraces iterables — now everything that could be an iterator is already an iterator — no unnecessary copies. An iterator is an iterable that has been made more efficient by removing as much from memory as possible. You have to make a list out of them explicitly if you really want it:"
   ]
  },
  {
   "cell_type": "code",
   "execution_count": null,
   "metadata": {},
   "outputs": [],
   "source": [
    "list(dict.keys())"
   ]
  },
  {
   "cell_type": "markdown",
   "metadata": {},
   "source": [
    "Then there is an entire module: itertools that provides nifty ways to iterate through stuff. So while we used to think in terms of sequences we now think in terms of iterables."
   ]
  },
  {
   "cell_type": "markdown",
   "metadata": {},
   "source": [
    "## Iterators and Iterables"
   ]
  },
  {
   "cell_type": "markdown",
   "metadata": {},
   "source": [
    "Iteration is one of the main reasons Python code is so readable:"
   ]
  },
  {
   "cell_type": "code",
   "execution_count": null,
   "metadata": {},
   "outputs": [],
   "source": [
    "for x in just_about_anything:\n",
    "    do_stuff(x)"
   ]
  },
  {
   "cell_type": "markdown",
   "metadata": {},
   "source": [
    "An iterable is anything that can be looped over sequentially, so it does not have to be a “sequence”: list, tuple, etc. For example, a string is iterable. So is a set.\n",
    "\n",
    "An iterator is an iterable that remembers state. All sequences are iterable, but not all sequences are iterators. To make a sequence an iterator, you can call it with iter:"
   ]
  },
  {
   "cell_type": "code",
   "execution_count": null,
   "metadata": {},
   "outputs": [],
   "source": [
    "my_iter = iter(my_sequence)"
   ]
  },
  {
   "cell_type": "markdown",
   "metadata": {},
   "source": [
    "To make an object iterable, you simply have to implement the ``__getitem__`` method."
   ]
  },
  {
   "cell_type": "code",
   "execution_count": null,
   "metadata": {},
   "outputs": [],
   "source": [
    "class T:\n",
    "    def __getitem__(self, position):\n",
    "        if position > 5:\n",
    "            raise IndexError\n",
    "        return position"
   ]
  },
  {
   "cell_type": "markdown",
   "metadata": {},
   "source": [
    "### ``iter()``"
   ]
  },
  {
   "cell_type": "markdown",
   "metadata": {},
   "source": [
    "How do you get the iterator object from an “iterable”? The iter() function will make any iterable an iterator. It first looks for the ``__iter__()`` method, and if none is found, uses get_item to create the iterator. The iter() function:"
   ]
  },
  {
   "cell_type": "code",
   "execution_count": null,
   "metadata": {},
   "outputs": [],
   "source": [
    "iter([2,3,4])"
   ]
  },
  {
   "cell_type": "code",
   "execution_count": null,
   "metadata": {},
   "outputs": [],
   "source": [
    "iter(\"a string\")"
   ]
  },
  {
   "cell_type": "code",
   "execution_count": null,
   "metadata": {},
   "outputs": [],
   "source": [
    "iter(('a', 'tuple'))"
   ]
  },
  {
   "cell_type": "markdown",
   "metadata": {},
   "source": [
    "Lists as iterators:"
   ]
  },
  {
   "cell_type": "code",
   "execution_count": null,
   "metadata": {},
   "outputs": [],
   "source": [
    "a_list = [1,2,3]"
   ]
  },
  {
   "cell_type": "code",
   "execution_count": null,
   "metadata": {},
   "outputs": [],
   "source": [
    "list_iter = iter(a_list)"
   ]
  },
  {
   "cell_type": "code",
   "execution_count": null,
   "metadata": {},
   "outputs": [],
   "source": [
    "next(list_iter)"
   ]
  },
  {
   "cell_type": "code",
   "execution_count": null,
   "metadata": {},
   "outputs": [],
   "source": [
    "next(list_iter)"
   ]
  },
  {
   "cell_type": "code",
   "execution_count": null,
   "metadata": {},
   "outputs": [],
   "source": [
    "next(list_iter)"
   ]
  },
  {
   "cell_type": "code",
   "execution_count": null,
   "metadata": {},
   "outputs": [],
   "source": [
    "next(list_iter)"
   ]
  },
  {
   "cell_type": "markdown",
   "metadata": {},
   "source": [
    "Consider the example from the trigrams problem.\n",
    "\n",
    "http://codekata.com/kata/kata14-tom-swift-under-the-milkwood/"
   ]
  },
  {
   "cell_type": "markdown",
   "metadata": {},
   "source": [
    "You have a list of words and you want to go through it, three at a time, and match up pairs with the following word.\n",
    "\n",
    "The non-pythonic way to do that is to loop through the indices."
   ]
  },
  {
   "cell_type": "code",
   "execution_count": null,
   "metadata": {},
   "outputs": [],
   "source": [
    "for i in range(len(words)-2):\n",
    "    triple = words[i:i+3]"
   ]
  },
  {
   "cell_type": "code",
   "execution_count": null,
   "metadata": {},
   "outputs": [],
   "source": [
    "for triple in zip(words[:-2], words[1:-1], words[2:-2]):\n",
    "    do something with triple"
   ]
  },
  {
   "cell_type": "markdown",
   "metadata": {},
   "source": [
    "``zip()`` returns an iterable &mdash; it does not build up the whole list, so this is quite efficient. However, we are still slicing: ``([1:])``, which produces a copy &mdash; so we are creating three copies of the list &mdash; not so good if memory is tight. Note that they are shallow copies, so this is not terribly bad. Nevertheless, we can do better.\n",
    "\n",
    "The itertools module has a ``islice()`` (iterable slice) function. It returns an iterator over a slice of a sequence &mdash; so no more copies:"
   ]
  },
  {
   "cell_type": "code",
   "execution_count": null,
   "metadata": {},
   "outputs": [],
   "source": [
    "from itertools import islice\n",
    "\n",
    "triplets = zip(words, islice(words, 1, None), islice(words, 2, None))\n",
    "\n",
    "for triplet in triplets:\n",
    "    print(triplet)\n",
    "\n",
    "('this', 'that', 'the')\n",
    "('that', 'the', 'other')\n",
    "('the', 'other', 'and')\n",
    "('other', 'and', 'one')\n",
    "('and', 'one', 'more')"
   ]
  },
  {
   "cell_type": "markdown",
   "metadata": {},
   "source": [
    "### The Iterator Protocol"
   ]
  },
  {
   "cell_type": "markdown",
   "metadata": {},
   "source": [
    "The main thing that differentiates an iterator from an iterable (sequence) is that an iterator saves state. An iterable must have the following methods:"
   ]
  },
  {
   "cell_type": "code",
   "execution_count": null,
   "metadata": {},
   "outputs": [],
   "source": [
    "an_iterator.__iter__()"
   ]
  },
  {
   "cell_type": "markdown",
   "metadata": {},
   "source": [
    "Usually returns the iterator object itself."
   ]
  },
  {
   "cell_type": "code",
   "execution_count": null,
   "metadata": {},
   "outputs": [],
   "source": [
    "an_iterator.__next__()"
   ]
  },
  {
   "cell_type": "markdown",
   "metadata": {},
   "source": [
    "Returns the next item from the container. If there are no further items it raises the StopIteration exception."
   ]
  },
  {
   "cell_type": "markdown",
   "metadata": {},
   "source": [
    "### Making an Iterator"
   ]
  },
  {
   "cell_type": "markdown",
   "metadata": {},
   "source": [
    "A simple version of ``range()``"
   ]
  },
  {
   "cell_type": "code",
   "execution_count": null,
   "metadata": {},
   "outputs": [],
   "source": [
    "class IterateMe_1:\n",
    "    def __init__(self, stop=5):\n",
    "        self.current = 0\n",
    "        self.stop = stop\n",
    "    def __iter__(self):\n",
    "        return self\n",
    "    def __next__(self):\n",
    "        if self.current < self.stop:\n",
    "            self.current += 1\n",
    "            return self.current\n",
    "        else:\n",
    "            raise StopIteration"
   ]
  },
  {
   "cell_type": "markdown",
   "metadata": {},
   "source": [
    "### For loops"
   ]
  },
  {
   "cell_type": "markdown",
   "metadata": {},
   "source": [
    "Now that we are familiar with the iterator protocol, we can write something like a for loop:"
   ]
  },
  {
   "cell_type": "code",
   "execution_count": null,
   "metadata": {},
   "outputs": [],
   "source": [
    "def my_for(an_iterable, func):\n",
    "    \"\"\"\n",
    "    Emulation of a for loop.\n",
    "\n",
    "    func() will be called with each item in an_iterable\n",
    "    \"\"\"\n",
    "    # equiv of \"for i in l:\"\n",
    "    iterator = iter(an_iterable)\n",
    "    while True:\n",
    "        try:\n",
    "            i = next(iterator)\n",
    "        except StopIteration:\n",
    "            break\n",
    "        func(i)"
   ]
  },
  {
   "cell_type": "markdown",
   "metadata": {},
   "source": [
    "### Itertools"
   ]
  },
  {
   "cell_type": "markdown",
   "metadata": {},
   "source": [
    "Itertools is a collection of utilities that make it easy to build an iterator that iterates over sequences in common ways.\n",
    "\n",
    "NOTE: iteratables are not only for ``for``.  They can be used with anything that expects an iterable: sum, tuple, sorted, list, etc."
   ]
  },
  {
   "cell_type": "markdown",
   "metadata": {},
   "source": [
    "### Is an iterator a type?"
   ]
  },
  {
   "cell_type": "markdown",
   "metadata": {},
   "source": [
    "Iterators are not a type. An “iterable” is anything that has an ``__iter__`` method that returns an iterator and/or has a ``__getitem__`` method that takes 0-based indexes.\n",
    "\n",
    "An “iterator” is anything that conforms to the “iterator protocol”:\n",
    "\n",
    "* Has a ``__next__()`` method that returns objects.\n",
    "* Raises ``StopIteration`` when their are no more objects to be returned.\n",
    "* Has an ``__iter__()`` method that returns an iterator — usually itself.\n",
    "\n",
    "Lots of common iterators are different types:"
   ]
  },
  {
   "cell_type": "code",
   "execution_count": null,
   "metadata": {},
   "outputs": [],
   "source": [
    "type(iter(range(5)))"
   ]
  },
  {
   "cell_type": "code",
   "execution_count": null,
   "metadata": {},
   "outputs": [],
   "source": [
    "iter(list())"
   ]
  },
  {
   "cell_type": "code",
   "execution_count": null,
   "metadata": {},
   "outputs": [],
   "source": [
    "type(iter(zip([],[])))"
   ]
  }
 ],
 "metadata": {
  "kernelspec": {
   "display_name": "Python 3",
   "language": "python",
   "name": "python3"
  },
  "language_info": {
   "codemirror_mode": {
    "name": "ipython",
    "version": 3
   },
   "file_extension": ".py",
   "mimetype": "text/x-python",
   "name": "python",
   "nbconvert_exporter": "python",
   "pygments_lexer": "ipython3",
   "version": "3.6.4"
  }
 },
 "nbformat": 4,
 "nbformat_minor": 2
}
